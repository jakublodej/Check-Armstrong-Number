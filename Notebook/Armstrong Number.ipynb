{
 "cells": [
  {
   "cell_type": "code",
   "execution_count": 15,
   "metadata": {},
   "outputs": [
    {
     "name": "stdout",
     "output_type": "stream",
     "text": [
      "Enter your number: 9474\n",
      "9474 is an Armstrong number\n"
     ]
    }
   ],
   "source": [
    "number = int(input(\"Enter your number: \"))\n",
    "\n",
    "lenght = len(str(number))\n",
    "\n",
    "sum = 0\n",
    "\n",
    "temp = number\n",
    "while temp > 0:\n",
    "    \n",
    "    digit = temp % 10\n",
    "    sum += digit ** lenght\n",
    "    temp //= 10\n",
    "\n",
    "if number == sum:\n",
    "    print(number,\"is an Armstrong number\")\n",
    "else:\n",
    "    print(number,\"is not an Armstrong number\")"
   ]
  }
 ],
 "metadata": {
  "kernelspec": {
   "display_name": "Python 3",
   "language": "python",
   "name": "python3"
  },
  "language_info": {
   "codemirror_mode": {
    "name": "ipython",
    "version": 3
   },
   "file_extension": ".py",
   "mimetype": "text/x-python",
   "name": "python",
   "nbconvert_exporter": "python",
   "pygments_lexer": "ipython3",
   "version": "3.6.5"
  }
 },
 "nbformat": 4,
 "nbformat_minor": 2
}
